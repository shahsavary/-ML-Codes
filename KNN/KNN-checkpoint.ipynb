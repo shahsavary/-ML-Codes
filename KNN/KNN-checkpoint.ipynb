{
 "cells": [
  {
   "cell_type": "code",
   "execution_count": 4,
   "metadata": {},
   "outputs": [],
   "source": [
    "import pandas as pd\n",
    "import numpy as np\n",
    "import warnings\n",
    "warnings.filterwarnings(\"ignore\")\n",
    "from sklearn import preprocessing\n",
    "from sklearn.model_selection import train_test_split\n",
    "from sklearn.neighbors import KNeighborsClassifier\n",
    "import matplotlib.pyplot as plt\n",
    "import seaborn as sns\n",
    "from sklearn.metrics import classification_report, confusion_matrix, accuracy_score,f1_score,precision_score\n",
    "import os\n",
    "import glob\n",
    "from sklearn.ensemble import RandomForestClassifier\n",
    "from sklearn.preprocessing import MinMaxScaler\n",
    "from sklearn.impute import KNNImputer\n",
    "from sklearn.preprocessing import StandardScaler\n",
    "from sklearn.model_selection import cross_val_score\n",
    "from sklearn.model_selection import GridSearchCV\n",
    "import imblearn\n",
    "from imblearn.over_sampling import SMOTE\n",
    "from sklearn.metrics import f1_score, make_scorer\n",
    "from pprint import pprint\n",
    "from sklearn.inspection import permutation_importance\n",
    "from imblearn.under_sampling import NearMiss"
   ]
  },
  {
   "cell_type": "code",
   "execution_count": 46,
   "metadata": {},
   "outputs": [],
   "source": [
    "df=pd.read_excel(r'C:\\Users\\javad\\OneDrive - University of Windsor\\Shirin Research\\research\\ML Codes\\Data_VIF.xlsx',index_col=0)"
   ]
  },
  {
   "cell_type": "code",
   "execution_count": 47,
   "metadata": {},
   "outputs": [
    {
     "data": {
      "text/plain": [
       " Warning       933\n",
       "Alert          388\n",
       "Stable         316\n",
       "Sustainable    309\n",
       "Name: Label, dtype: int64"
      ]
     },
     "execution_count": 47,
     "metadata": {},
     "output_type": "execute_result"
    }
   ],
   "source": [
    "df['Label'].value_counts()"
   ]
  },
  {
   "cell_type": "code",
   "execution_count": 48,
   "metadata": {},
   "outputs": [],
   "source": [
    "x=df.drop(['Label','Year'],axis=1)\n",
    "y=df['Label']"
   ]
  },
  {
   "cell_type": "code",
   "execution_count": 49,
   "metadata": {},
   "outputs": [
    {
     "data": {
      "text/html": [
       "<div>\n",
       "<style scoped>\n",
       "    .dataframe tbody tr th:only-of-type {\n",
       "        vertical-align: middle;\n",
       "    }\n",
       "\n",
       "    .dataframe tbody tr th {\n",
       "        vertical-align: top;\n",
       "    }\n",
       "\n",
       "    .dataframe thead th {\n",
       "        text-align: right;\n",
       "    }\n",
       "</style>\n",
       "<table border=\"1\" class=\"dataframe\">\n",
       "  <thead>\n",
       "    <tr style=\"text-align: right;\">\n",
       "      <th></th>\n",
       "      <th>GDP growth</th>\n",
       "      <th>GDP per capita</th>\n",
       "      <th>Population</th>\n",
       "      <th>School enrolment</th>\n",
       "      <th>Control of corruption</th>\n",
       "      <th>Regime types</th>\n",
       "    </tr>\n",
       "  </thead>\n",
       "  <tbody>\n",
       "    <tr>\n",
       "      <th>0</th>\n",
       "      <td>0.390021</td>\n",
       "      <td>-0.700372</td>\n",
       "      <td>-0.145309</td>\n",
       "      <td>-1.626815</td>\n",
       "      <td>-1.263694</td>\n",
       "      <td>-0.750929</td>\n",
       "    </tr>\n",
       "    <tr>\n",
       "      <th>1</th>\n",
       "      <td>-0.471464</td>\n",
       "      <td>-0.520049</td>\n",
       "      <td>-0.100416</td>\n",
       "      <td>0.039238</td>\n",
       "      <td>-0.403364</td>\n",
       "      <td>-0.750929</td>\n",
       "    </tr>\n",
       "    <tr>\n",
       "      <th>2</th>\n",
       "      <td>1.848659</td>\n",
       "      <td>-0.569359</td>\n",
       "      <td>-0.184441</td>\n",
       "      <td>-2.055227</td>\n",
       "      <td>-1.063330</td>\n",
       "      <td>-1.818356</td>\n",
       "    </tr>\n",
       "    <tr>\n",
       "      <th>3</th>\n",
       "      <td>1.023579</td>\n",
       "      <td>-0.383175</td>\n",
       "      <td>-0.065234</td>\n",
       "      <td>0.424186</td>\n",
       "      <td>-0.175210</td>\n",
       "      <td>0.316498</td>\n",
       "    </tr>\n",
       "    <tr>\n",
       "      <th>4</th>\n",
       "      <td>2.237309</td>\n",
       "      <td>-0.594117</td>\n",
       "      <td>-0.291514</td>\n",
       "      <td>0.525120</td>\n",
       "      <td>-0.505150</td>\n",
       "      <td>-0.750929</td>\n",
       "    </tr>\n",
       "  </tbody>\n",
       "</table>\n",
       "</div>"
      ],
      "text/plain": [
       "   GDP growth  GDP per capita  Population  School enrolment   \\\n",
       "0    0.390021       -0.700372   -0.145309          -1.626815   \n",
       "1   -0.471464       -0.520049   -0.100416           0.039238   \n",
       "2    1.848659       -0.569359   -0.184441          -2.055227   \n",
       "3    1.023579       -0.383175   -0.065234           0.424186   \n",
       "4    2.237309       -0.594117   -0.291514           0.525120   \n",
       "\n",
       "   Control of corruption  Regime types  \n",
       "0              -1.263694     -0.750929  \n",
       "1              -0.403364     -0.750929  \n",
       "2              -1.063330     -1.818356  \n",
       "3              -0.175210      0.316498  \n",
       "4              -0.505150     -0.750929  "
      ]
     },
     "execution_count": 49,
     "metadata": {},
     "output_type": "execute_result"
    }
   ],
   "source": [
    "scaler = StandardScaler()\n",
    "x = pd.DataFrame(scaler.fit_transform(x), columns = x.columns)\n",
    "x.head()"
   ]
  },
  {
   "cell_type": "code",
   "execution_count": 50,
   "metadata": {},
   "outputs": [],
   "source": [
    "X_train, X_test, y_train, y_test = train_test_split(x,y,test_size=0.2, random_state = 1)"
   ]
  },
  {
   "cell_type": "markdown",
   "metadata": {},
   "source": [
    "## We implement the GridSeach to do the hyperparameter Tuning"
   ]
  },
  {
   "cell_type": "code",
   "execution_count": 70,
   "metadata": {},
   "outputs": [],
   "source": [
    "params=[{'n_neighbors': [3, 5, 7, 9],\n",
    "         'weights': ['uniform', 'distance'],\n",
    "         'leaf_size': [15, 20]}]\n",
    "         "
   ]
  },
  {
   "cell_type": "code",
   "execution_count": 71,
   "metadata": {},
   "outputs": [],
   "source": [
    "knn_model = KNeighborsClassifier()"
   ]
  },
  {
   "cell_type": "code",
   "execution_count": 85,
   "metadata": {},
   "outputs": [],
   "source": [
    "clf = GridSearchCV(knn_model, params, n_jobs=-1,cv=5, scoring='accuracy')"
   ]
  },
  {
   "cell_type": "code",
   "execution_count": 86,
   "metadata": {},
   "outputs": [],
   "source": [
    "model = clf.fit(X_train, y_train)"
   ]
  },
  {
   "cell_type": "code",
   "execution_count": 87,
   "metadata": {},
   "outputs": [
    {
     "name": "stdout",
     "output_type": "stream",
     "text": [
      "{'algorithm': 'auto',\n",
      " 'leaf_size': 15,\n",
      " 'metric': 'minkowski',\n",
      " 'metric_params': None,\n",
      " 'n_jobs': None,\n",
      " 'n_neighbors': 7,\n",
      " 'p': 2,\n",
      " 'weights': 'distance'}\n"
     ]
    }
   ],
   "source": [
    "pprint(model.best_estimator_.get_params())"
   ]
  },
  {
   "cell_type": "code",
   "execution_count": 88,
   "metadata": {},
   "outputs": [],
   "source": [
    "y_pred=model.predict(X_test)"
   ]
  },
  {
   "cell_type": "code",
   "execution_count": 89,
   "metadata": {},
   "outputs": [
    {
     "name": "stdout",
     "output_type": "stream",
     "text": [
      "Confusion Matrix:\n",
      "[[151  19  11   0]\n",
      " [ 20  62   2   0]\n",
      " [  8   0  55   1]\n",
      " [  0   0   6  55]]\n",
      "Classification Report:\n",
      "              precision    recall  f1-score   support\n",
      "\n",
      "     Warning       0.84      0.83      0.84       181\n",
      "       Alert       0.77      0.74      0.75        84\n",
      "      Stable       0.74      0.86      0.80        64\n",
      " Sustainable       0.98      0.90      0.94        61\n",
      "\n",
      "    accuracy                           0.83       390\n",
      "   macro avg       0.83      0.83      0.83       390\n",
      "weighted avg       0.83      0.83      0.83       390\n",
      "\n",
      "Accuracy: 0.8282051282051283\n"
     ]
    }
   ],
   "source": [
    "result = confusion_matrix(y_test, y_pred)\n",
    "print('Confusion Matrix:')\n",
    "print(result)\n",
    "result1 = classification_report(y_test, y_pred)\n",
    "print('Classification Report:',)\n",
    "print (result1)\n",
    "result2 = accuracy_score(y_test,y_pred)\n",
    "print('Accuracy:',result2)"
   ]
  },
  {
   "cell_type": "markdown",
   "metadata": {},
   "source": [
    "# Over sampling KNN"
   ]
  },
  {
   "cell_type": "code",
   "execution_count": 90,
   "metadata": {},
   "outputs": [],
   "source": [
    "df_over=df.copy()"
   ]
  },
  {
   "cell_type": "code",
   "execution_count": 91,
   "metadata": {},
   "outputs": [],
   "source": [
    "x_over=df_over.drop(['Label','Year'],axis=1)\n",
    "y_over=df_over['Label']"
   ]
  },
  {
   "cell_type": "code",
   "execution_count": 92,
   "metadata": {},
   "outputs": [
    {
     "data": {
      "text/html": [
       "<div>\n",
       "<style scoped>\n",
       "    .dataframe tbody tr th:only-of-type {\n",
       "        vertical-align: middle;\n",
       "    }\n",
       "\n",
       "    .dataframe tbody tr th {\n",
       "        vertical-align: top;\n",
       "    }\n",
       "\n",
       "    .dataframe thead th {\n",
       "        text-align: right;\n",
       "    }\n",
       "</style>\n",
       "<table border=\"1\" class=\"dataframe\">\n",
       "  <thead>\n",
       "    <tr style=\"text-align: right;\">\n",
       "      <th></th>\n",
       "      <th>GDP growth</th>\n",
       "      <th>GDP per capita</th>\n",
       "      <th>Population</th>\n",
       "      <th>School enrolment</th>\n",
       "      <th>Control of corruption</th>\n",
       "      <th>Regime types</th>\n",
       "    </tr>\n",
       "  </thead>\n",
       "  <tbody>\n",
       "    <tr>\n",
       "      <th>0</th>\n",
       "      <td>0.390021</td>\n",
       "      <td>-0.700372</td>\n",
       "      <td>-0.145309</td>\n",
       "      <td>-1.626815</td>\n",
       "      <td>-1.263694</td>\n",
       "      <td>-0.750929</td>\n",
       "    </tr>\n",
       "    <tr>\n",
       "      <th>1</th>\n",
       "      <td>-0.471464</td>\n",
       "      <td>-0.520049</td>\n",
       "      <td>-0.100416</td>\n",
       "      <td>0.039238</td>\n",
       "      <td>-0.403364</td>\n",
       "      <td>-0.750929</td>\n",
       "    </tr>\n",
       "    <tr>\n",
       "      <th>2</th>\n",
       "      <td>1.848659</td>\n",
       "      <td>-0.569359</td>\n",
       "      <td>-0.184441</td>\n",
       "      <td>-2.055227</td>\n",
       "      <td>-1.063330</td>\n",
       "      <td>-1.818356</td>\n",
       "    </tr>\n",
       "    <tr>\n",
       "      <th>3</th>\n",
       "      <td>1.023579</td>\n",
       "      <td>-0.383175</td>\n",
       "      <td>-0.065234</td>\n",
       "      <td>0.424186</td>\n",
       "      <td>-0.175210</td>\n",
       "      <td>0.316498</td>\n",
       "    </tr>\n",
       "    <tr>\n",
       "      <th>4</th>\n",
       "      <td>2.237309</td>\n",
       "      <td>-0.594117</td>\n",
       "      <td>-0.291514</td>\n",
       "      <td>0.525120</td>\n",
       "      <td>-0.505150</td>\n",
       "      <td>-0.750929</td>\n",
       "    </tr>\n",
       "  </tbody>\n",
       "</table>\n",
       "</div>"
      ],
      "text/plain": [
       "   GDP growth  GDP per capita  Population  School enrolment   \\\n",
       "0    0.390021       -0.700372   -0.145309          -1.626815   \n",
       "1   -0.471464       -0.520049   -0.100416           0.039238   \n",
       "2    1.848659       -0.569359   -0.184441          -2.055227   \n",
       "3    1.023579       -0.383175   -0.065234           0.424186   \n",
       "4    2.237309       -0.594117   -0.291514           0.525120   \n",
       "\n",
       "   Control of corruption  Regime types  \n",
       "0              -1.263694     -0.750929  \n",
       "1              -0.403364     -0.750929  \n",
       "2              -1.063330     -1.818356  \n",
       "3              -0.175210      0.316498  \n",
       "4              -0.505150     -0.750929  "
      ]
     },
     "execution_count": 92,
     "metadata": {},
     "output_type": "execute_result"
    }
   ],
   "source": [
    "scaler_over = StandardScaler()\n",
    "x_over= pd.DataFrame(scaler_over.fit_transform(x_over), columns = x_over.columns)\n",
    "x_over.head()"
   ]
  },
  {
   "cell_type": "code",
   "execution_count": 93,
   "metadata": {},
   "outputs": [],
   "source": [
    "oversample = SMOTE()\n",
    "x_over, y_over = oversample.fit_resample(x_over, y_over)"
   ]
  },
  {
   "cell_type": "code",
   "execution_count": 94,
   "metadata": {},
   "outputs": [
    {
     "data": {
      "text/plain": [
       "Alert          933\n",
       " Warning       933\n",
       "Stable         933\n",
       "Sustainable    933\n",
       "Name: Label, dtype: int64"
      ]
     },
     "execution_count": 94,
     "metadata": {},
     "output_type": "execute_result"
    }
   ],
   "source": [
    "y_over.value_counts()"
   ]
  },
  {
   "cell_type": "code",
   "execution_count": 95,
   "metadata": {},
   "outputs": [],
   "source": [
    "X_over_train, X_over_test, y_over_train, y_over_test = train_test_split(x_over,y_over,test_size=0.2, random_state = 1)"
   ]
  },
  {
   "cell_type": "code",
   "execution_count": 96,
   "metadata": {},
   "outputs": [],
   "source": [
    "knn_over = KNeighborsClassifier()"
   ]
  },
  {
   "cell_type": "code",
   "execution_count": 113,
   "metadata": {},
   "outputs": [],
   "source": [
    "clf_over = GridSearchCV(knn_over, params, n_jobs=-1,cv=5, scoring='accuracy')"
   ]
  },
  {
   "cell_type": "code",
   "execution_count": 114,
   "metadata": {},
   "outputs": [],
   "source": [
    "model_over = clf_over.fit(X_over_train, y_over_train)"
   ]
  },
  {
   "cell_type": "code",
   "execution_count": 115,
   "metadata": {},
   "outputs": [
    {
     "name": "stdout",
     "output_type": "stream",
     "text": [
      "{'algorithm': 'auto',\n",
      " 'leaf_size': 15,\n",
      " 'metric': 'minkowski',\n",
      " 'metric_params': None,\n",
      " 'n_jobs': None,\n",
      " 'n_neighbors': 3,\n",
      " 'p': 2,\n",
      " 'weights': 'distance'}\n"
     ]
    }
   ],
   "source": [
    "pprint(model_over.best_estimator_.get_params())"
   ]
  },
  {
   "cell_type": "code",
   "execution_count": 116,
   "metadata": {},
   "outputs": [],
   "source": [
    "y_pred_over = model_over.predict(X_over_test)"
   ]
  },
  {
   "cell_type": "code",
   "execution_count": 117,
   "metadata": {},
   "outputs": [
    {
     "name": "stdout",
     "output_type": "stream",
     "text": [
      "Confusion Matrix:\n",
      "[[159  31  11   3]\n",
      " [  3 189   1   0]\n",
      " [  1   0 171   3]\n",
      " [  0   0   5 170]]\n",
      "Classification Report:\n",
      "              precision    recall  f1-score   support\n",
      "\n",
      "     Warning       0.98      0.78      0.87       204\n",
      "       Alert       0.86      0.98      0.92       193\n",
      "      Stable       0.91      0.98      0.94       175\n",
      " Sustainable       0.97      0.97      0.97       175\n",
      "\n",
      "    accuracy                           0.92       747\n",
      "   macro avg       0.93      0.93      0.92       747\n",
      "weighted avg       0.93      0.92      0.92       747\n",
      "\n",
      "Accuracy: 0.9223560910307899\n"
     ]
    }
   ],
   "source": [
    "result_over = confusion_matrix(y_over_test,y_pred_over)\n",
    "print('Confusion Matrix:')\n",
    "print(result_over)\n",
    "result1_over = classification_report(y_over_test,y_pred_over)\n",
    "print('Classification Report:',)\n",
    "print (result1_over)\n",
    "result2_over = accuracy_score(y_over_test,y_pred_over)\n",
    "print('Accuracy:',result2_over)"
   ]
  },
  {
   "cell_type": "markdown",
   "metadata": {},
   "source": [
    "# Under sampling Random forest"
   ]
  },
  {
   "cell_type": "code",
   "execution_count": 127,
   "metadata": {},
   "outputs": [],
   "source": [
    "df_under=df.copy()"
   ]
  },
  {
   "cell_type": "code",
   "execution_count": 128,
   "metadata": {},
   "outputs": [],
   "source": [
    "x_under=df_under.drop(['Label','Year'],axis=1)\n",
    "y_under=df_under['Label']"
   ]
  },
  {
   "cell_type": "code",
   "execution_count": 129,
   "metadata": {},
   "outputs": [
    {
     "data": {
      "text/html": [
       "<div>\n",
       "<style scoped>\n",
       "    .dataframe tbody tr th:only-of-type {\n",
       "        vertical-align: middle;\n",
       "    }\n",
       "\n",
       "    .dataframe tbody tr th {\n",
       "        vertical-align: top;\n",
       "    }\n",
       "\n",
       "    .dataframe thead th {\n",
       "        text-align: right;\n",
       "    }\n",
       "</style>\n",
       "<table border=\"1\" class=\"dataframe\">\n",
       "  <thead>\n",
       "    <tr style=\"text-align: right;\">\n",
       "      <th></th>\n",
       "      <th>GDP growth</th>\n",
       "      <th>GDP per capita</th>\n",
       "      <th>Population</th>\n",
       "      <th>School enrolment</th>\n",
       "      <th>Control of corruption</th>\n",
       "      <th>Regime types</th>\n",
       "    </tr>\n",
       "  </thead>\n",
       "  <tbody>\n",
       "    <tr>\n",
       "      <th>0</th>\n",
       "      <td>0.390021</td>\n",
       "      <td>-0.700372</td>\n",
       "      <td>-0.145309</td>\n",
       "      <td>-1.626815</td>\n",
       "      <td>-1.263694</td>\n",
       "      <td>-0.750929</td>\n",
       "    </tr>\n",
       "    <tr>\n",
       "      <th>1</th>\n",
       "      <td>-0.471464</td>\n",
       "      <td>-0.520049</td>\n",
       "      <td>-0.100416</td>\n",
       "      <td>0.039238</td>\n",
       "      <td>-0.403364</td>\n",
       "      <td>-0.750929</td>\n",
       "    </tr>\n",
       "    <tr>\n",
       "      <th>2</th>\n",
       "      <td>1.848659</td>\n",
       "      <td>-0.569359</td>\n",
       "      <td>-0.184441</td>\n",
       "      <td>-2.055227</td>\n",
       "      <td>-1.063330</td>\n",
       "      <td>-1.818356</td>\n",
       "    </tr>\n",
       "    <tr>\n",
       "      <th>3</th>\n",
       "      <td>1.023579</td>\n",
       "      <td>-0.383175</td>\n",
       "      <td>-0.065234</td>\n",
       "      <td>0.424186</td>\n",
       "      <td>-0.175210</td>\n",
       "      <td>0.316498</td>\n",
       "    </tr>\n",
       "    <tr>\n",
       "      <th>4</th>\n",
       "      <td>2.237309</td>\n",
       "      <td>-0.594117</td>\n",
       "      <td>-0.291514</td>\n",
       "      <td>0.525120</td>\n",
       "      <td>-0.505150</td>\n",
       "      <td>-0.750929</td>\n",
       "    </tr>\n",
       "  </tbody>\n",
       "</table>\n",
       "</div>"
      ],
      "text/plain": [
       "   GDP growth  GDP per capita  Population  School enrolment   \\\n",
       "0    0.390021       -0.700372   -0.145309          -1.626815   \n",
       "1   -0.471464       -0.520049   -0.100416           0.039238   \n",
       "2    1.848659       -0.569359   -0.184441          -2.055227   \n",
       "3    1.023579       -0.383175   -0.065234           0.424186   \n",
       "4    2.237309       -0.594117   -0.291514           0.525120   \n",
       "\n",
       "   Control of corruption  Regime types  \n",
       "0              -1.263694     -0.750929  \n",
       "1              -0.403364     -0.750929  \n",
       "2              -1.063330     -1.818356  \n",
       "3              -0.175210      0.316498  \n",
       "4              -0.505150     -0.750929  "
      ]
     },
     "execution_count": 129,
     "metadata": {},
     "output_type": "execute_result"
    }
   ],
   "source": [
    "scaler_under = StandardScaler()\n",
    "x_under= pd.DataFrame(scaler_under.fit_transform(x_under), columns = x_under.columns)\n",
    "x_under.head()"
   ]
  },
  {
   "cell_type": "code",
   "execution_count": 130,
   "metadata": {},
   "outputs": [],
   "source": [
    "undersample = NearMiss(version=1, n_neighbors=3)"
   ]
  },
  {
   "cell_type": "code",
   "execution_count": 131,
   "metadata": {},
   "outputs": [],
   "source": [
    "x_under, y_under= undersample.fit_resample(x_under,y_under)"
   ]
  },
  {
   "cell_type": "code",
   "execution_count": 133,
   "metadata": {},
   "outputs": [
    {
     "data": {
      "text/plain": [
       " Warning       309\n",
       "Alert          309\n",
       "Stable         309\n",
       "Sustainable    309\n",
       "Name: Label, dtype: int64"
      ]
     },
     "execution_count": 133,
     "metadata": {},
     "output_type": "execute_result"
    }
   ],
   "source": [
    "y_under.value_counts()"
   ]
  },
  {
   "cell_type": "code",
   "execution_count": 134,
   "metadata": {},
   "outputs": [],
   "source": [
    "X_under_train, X_under_test, y_under_train, y_under_test = train_test_split(x_under,y_under,test_size=0.2, random_state = 1)"
   ]
  },
  {
   "cell_type": "code",
   "execution_count": 135,
   "metadata": {},
   "outputs": [],
   "source": [
    "knn_model_under =KNeighborsClassifier()"
   ]
  },
  {
   "cell_type": "code",
   "execution_count": 136,
   "metadata": {},
   "outputs": [],
   "source": [
    "clf_under = GridSearchCV(knn_model_under, params, n_jobs=-1,cv=5, scoring='accuracy')"
   ]
  },
  {
   "cell_type": "code",
   "execution_count": 137,
   "metadata": {},
   "outputs": [],
   "source": [
    "model_under = clf_under.fit(X_under_train, y_under_train)"
   ]
  },
  {
   "cell_type": "code",
   "execution_count": 138,
   "metadata": {},
   "outputs": [
    {
     "name": "stdout",
     "output_type": "stream",
     "text": [
      "{'algorithm': 'auto',\n",
      " 'leaf_size': 15,\n",
      " 'metric': 'minkowski',\n",
      " 'metric_params': None,\n",
      " 'n_jobs': None,\n",
      " 'n_neighbors': 3,\n",
      " 'p': 2,\n",
      " 'weights': 'distance'}\n"
     ]
    }
   ],
   "source": [
    "pprint(model_under.best_estimator_.get_params())"
   ]
  },
  {
   "cell_type": "code",
   "execution_count": 139,
   "metadata": {},
   "outputs": [],
   "source": [
    "y_pred_under = model_under.predict(X_under_test)"
   ]
  },
  {
   "cell_type": "code",
   "execution_count": 140,
   "metadata": {},
   "outputs": [
    {
     "name": "stdout",
     "output_type": "stream",
     "text": [
      "Confusion Matrix:\n",
      "[[68  1  5  0]\n",
      " [ 3 50  0  0]\n",
      " [ 8  0 46  1]\n",
      " [ 1  0  8 57]]\n",
      "Classification Report:\n",
      "              precision    recall  f1-score   support\n",
      "\n",
      "     Warning       0.85      0.92      0.88        74\n",
      "       Alert       0.98      0.94      0.96        53\n",
      "      Stable       0.78      0.84      0.81        55\n",
      " Sustainable       0.98      0.86      0.92        66\n",
      "\n",
      "    accuracy                           0.89       248\n",
      "   macro avg       0.90      0.89      0.89       248\n",
      "weighted avg       0.90      0.89      0.89       248\n",
      "\n",
      "Accuracy: 0.8911290322580645\n"
     ]
    }
   ],
   "source": [
    "result_under = confusion_matrix(y_under_test,y_pred_under)\n",
    "print('Confusion Matrix:')\n",
    "print(result_under)\n",
    "result1_under = classification_report(y_under_test,y_pred_under)\n",
    "print('Classification Report:',)\n",
    "print (result1_under)\n",
    "result2_under = accuracy_score(y_under_test,y_pred_under)\n",
    "print('Accuracy:',result2_under)"
   ]
  }
 ],
 "metadata": {
  "kernelspec": {
   "display_name": "Python 3",
   "language": "python",
   "name": "python3"
  },
  "language_info": {
   "codemirror_mode": {
    "name": "ipython",
    "version": 3
   },
   "file_extension": ".py",
   "mimetype": "text/x-python",
   "name": "python",
   "nbconvert_exporter": "python",
   "pygments_lexer": "ipython3",
   "version": "3.7.1"
  }
 },
 "nbformat": 4,
 "nbformat_minor": 2
}
