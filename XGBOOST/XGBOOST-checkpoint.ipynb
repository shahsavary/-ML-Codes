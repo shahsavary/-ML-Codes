{
 "cells": [
  {
   "cell_type": "code",
   "execution_count": 4,
   "metadata": {},
   "outputs": [],
   "source": [
    "import pandas as pd\n",
    "import numpy as np\n",
    "import warnings\n",
    "warnings.filterwarnings(\"ignore\")\n",
    "from sklearn import preprocessing\n",
    "from sklearn.model_selection import train_test_split\n",
    "from sklearn.neighbors import KNeighborsClassifier\n",
    "import matplotlib.pyplot as plt\n",
    "import seaborn as sns\n",
    "from sklearn.metrics import classification_report, confusion_matrix, accuracy_score,f1_score,precision_score\n",
    "import os\n",
    "import glob\n",
    "from sklearn.ensemble import RandomForestClassifier\n",
    "from sklearn.preprocessing import MinMaxScaler\n",
    "from sklearn.impute import KNNImputer\n",
    "from sklearn.preprocessing import StandardScaler\n",
    "from sklearn.model_selection import cross_val_score\n",
    "from sklearn.model_selection import GridSearchCV,RandomizedSearchCV\n",
    "import imblearn\n",
    "from imblearn.over_sampling import SMOTE\n",
    "from sklearn.metrics import f1_score, make_scorer\n",
    "from pprint import pprint\n",
    "from sklearn.inspection import permutation_importance\n",
    "from imblearn.under_sampling import NearMiss\n",
    "from xgboost import XGBClassifier\n",
    "import xgboost as xgb\n",
    "from keras.models import Sequential\n",
    "from keras.layers import Dense\n",
    "from keras.wrappers.scikit_learn import KerasClassifier\n",
    "from keras.utils import np_utils\n",
    "from sklearn.model_selection import cross_val_score\n",
    "from sklearn.model_selection import KFold\n",
    "from sklearn.preprocessing import LabelEncoder\n",
    "from sklearn.pipeline import Pipeline"
   ]
  },
  {
   "cell_type": "code",
   "execution_count": 5,
   "metadata": {},
   "outputs": [],
   "source": [
    "df=pd.read_excel(r'C:\\Users\\javad\\OneDrive - University of Windsor\\Shirin Research\\research\\ML Codes\\Data_VIF.xlsx',index_col=0)"
   ]
  },
  {
   "cell_type": "code",
   "execution_count": 6,
   "metadata": {},
   "outputs": [
    {
     "data": {
      "text/plain": [
       " Warning       933\n",
       "Alert          388\n",
       "Stable         316\n",
       "Sustainable    309\n",
       "Name: Label, dtype: int64"
      ]
     },
     "execution_count": 6,
     "metadata": {},
     "output_type": "execute_result"
    }
   ],
   "source": [
    "df['Label'].value_counts()"
   ]
  },
  {
   "cell_type": "code",
   "execution_count": 7,
   "metadata": {},
   "outputs": [],
   "source": [
    "x=df.drop(['Label','Year'],axis=1)\n",
    "y=df['Label']"
   ]
  },
  {
   "cell_type": "code",
   "execution_count": 8,
   "metadata": {},
   "outputs": [
    {
     "data": {
      "text/html": [
       "<div>\n",
       "<style scoped>\n",
       "    .dataframe tbody tr th:only-of-type {\n",
       "        vertical-align: middle;\n",
       "    }\n",
       "\n",
       "    .dataframe tbody tr th {\n",
       "        vertical-align: top;\n",
       "    }\n",
       "\n",
       "    .dataframe thead th {\n",
       "        text-align: right;\n",
       "    }\n",
       "</style>\n",
       "<table border=\"1\" class=\"dataframe\">\n",
       "  <thead>\n",
       "    <tr style=\"text-align: right;\">\n",
       "      <th></th>\n",
       "      <th>GDP growth</th>\n",
       "      <th>GDP per capita</th>\n",
       "      <th>Population</th>\n",
       "      <th>School enrolment</th>\n",
       "      <th>Control of corruption</th>\n",
       "      <th>Regime types</th>\n",
       "    </tr>\n",
       "  </thead>\n",
       "  <tbody>\n",
       "    <tr>\n",
       "      <th>0</th>\n",
       "      <td>0.390021</td>\n",
       "      <td>-0.700372</td>\n",
       "      <td>-0.145309</td>\n",
       "      <td>-1.626815</td>\n",
       "      <td>-1.263694</td>\n",
       "      <td>-0.750929</td>\n",
       "    </tr>\n",
       "    <tr>\n",
       "      <th>1</th>\n",
       "      <td>-0.471464</td>\n",
       "      <td>-0.520049</td>\n",
       "      <td>-0.100416</td>\n",
       "      <td>0.039238</td>\n",
       "      <td>-0.403364</td>\n",
       "      <td>-0.750929</td>\n",
       "    </tr>\n",
       "    <tr>\n",
       "      <th>2</th>\n",
       "      <td>1.848659</td>\n",
       "      <td>-0.569359</td>\n",
       "      <td>-0.184441</td>\n",
       "      <td>-2.055227</td>\n",
       "      <td>-1.063330</td>\n",
       "      <td>-1.818356</td>\n",
       "    </tr>\n",
       "    <tr>\n",
       "      <th>3</th>\n",
       "      <td>1.023579</td>\n",
       "      <td>-0.383175</td>\n",
       "      <td>-0.065234</td>\n",
       "      <td>0.424186</td>\n",
       "      <td>-0.175210</td>\n",
       "      <td>0.316498</td>\n",
       "    </tr>\n",
       "    <tr>\n",
       "      <th>4</th>\n",
       "      <td>2.237309</td>\n",
       "      <td>-0.594117</td>\n",
       "      <td>-0.291514</td>\n",
       "      <td>0.525120</td>\n",
       "      <td>-0.505150</td>\n",
       "      <td>-0.750929</td>\n",
       "    </tr>\n",
       "  </tbody>\n",
       "</table>\n",
       "</div>"
      ],
      "text/plain": [
       "   GDP growth  GDP per capita  Population  School enrolment   \\\n",
       "0    0.390021       -0.700372   -0.145309          -1.626815   \n",
       "1   -0.471464       -0.520049   -0.100416           0.039238   \n",
       "2    1.848659       -0.569359   -0.184441          -2.055227   \n",
       "3    1.023579       -0.383175   -0.065234           0.424186   \n",
       "4    2.237309       -0.594117   -0.291514           0.525120   \n",
       "\n",
       "   Control of corruption  Regime types  \n",
       "0              -1.263694     -0.750929  \n",
       "1              -0.403364     -0.750929  \n",
       "2              -1.063330     -1.818356  \n",
       "3              -0.175210      0.316498  \n",
       "4              -0.505150     -0.750929  "
      ]
     },
     "execution_count": 8,
     "metadata": {},
     "output_type": "execute_result"
    }
   ],
   "source": [
    "scaler = StandardScaler()\n",
    "x = pd.DataFrame(scaler.fit_transform(x), columns = x.columns)\n",
    "x.head()"
   ]
  },
  {
   "cell_type": "code",
   "execution_count": 9,
   "metadata": {},
   "outputs": [],
   "source": [
    "X_train, X_test, y_train, y_test = train_test_split(x,y,test_size=0.2, random_state = 1)"
   ]
  },
  {
   "cell_type": "code",
   "execution_count": 10,
   "metadata": {},
   "outputs": [],
   "source": [
    "from sklearn.preprocessing import LabelEncoder\n",
    "le = LabelEncoder()\n",
    "y_train = le.fit_transform(y_train)"
   ]
  },
  {
   "cell_type": "code",
   "execution_count": 11,
   "metadata": {},
   "outputs": [],
   "source": [
    "lee = LabelEncoder()\n",
    "y_test=lee.fit_transform(y_test)"
   ]
  },
  {
   "cell_type": "markdown",
   "metadata": {},
   "source": [
    "## We implement the GridSeach to do the hyperparameter Tuning"
   ]
  },
  {
   "cell_type": "code",
   "execution_count": 31,
   "metadata": {},
   "outputs": [],
   "source": [
    "# model_params = {'eta':[0.01,0.003,0.1,0.2,0.3],\n",
    "#               'gamma':[0,0.01,0.1,1,10,20],\n",
    "#               'max_depth': [3,6,8,10],\n",
    "#               'min_child_weight': [1,10,20],\n",
    "#               'subsample': [0.5,0.7,0.8,1],\n",
    "#               'objective':['multi:softmax','multi:softprob'],\n",
    "#               'n_estimators' : [50, 100, 150, 200]\n",
    "#              }"
   ]
  },
  {
   "cell_type": "code",
   "execution_count": 13,
   "metadata": {},
   "outputs": [],
   "source": [
    "xgb_model = xgb.XGBClassifier(eta=0.2,gamma=.01,max_depth= 8,min_child_weight=1,subsample=0.7,objective='multi:softmax',n_estimators=100)"
   ]
  },
  {
   "cell_type": "code",
   "execution_count": 14,
   "metadata": {},
   "outputs": [],
   "source": [
    "model = xgb_model.fit(X_train, y_train)"
   ]
  },
  {
   "cell_type": "code",
   "execution_count": 16,
   "metadata": {},
   "outputs": [],
   "source": [
    "y_pred=model.predict(X_test)"
   ]
  },
  {
   "cell_type": "code",
   "execution_count": 17,
   "metadata": {},
   "outputs": [
    {
     "name": "stdout",
     "output_type": "stream",
     "text": [
      "Confusion Matrix:\n",
      "[[175   6   0   0]\n",
      " [ 12  72   0   0]\n",
      " [  5   0  58   1]\n",
      " [  0   0   3  58]]\n",
      "Classification Report:\n",
      "              precision    recall  f1-score   support\n",
      "\n",
      "           0       0.91      0.97      0.94       181\n",
      "           1       0.92      0.86      0.89        84\n",
      "           2       0.95      0.91      0.93        64\n",
      "           3       0.98      0.95      0.97        61\n",
      "\n",
      "    accuracy                           0.93       390\n",
      "   macro avg       0.94      0.92      0.93       390\n",
      "weighted avg       0.93      0.93      0.93       390\n",
      "\n",
      "Accuracy: 0.9307692307692308\n"
     ]
    }
   ],
   "source": [
    "result = confusion_matrix(y_test, y_pred)\n",
    "print('Confusion Matrix:')\n",
    "print(result)\n",
    "result1 = classification_report(y_test, y_pred)\n",
    "print('Classification Report:',)\n",
    "print (result1)\n",
    "result2 = accuracy_score(y_test,y_pred)\n",
    "print('Accuracy:',result2)"
   ]
  },
  {
   "cell_type": "markdown",
   "metadata": {},
   "source": [
    "# Over sampling Random Forest"
   ]
  },
  {
   "cell_type": "code",
   "execution_count": 18,
   "metadata": {},
   "outputs": [],
   "source": [
    "df_over=df.copy()"
   ]
  },
  {
   "cell_type": "code",
   "execution_count": 19,
   "metadata": {},
   "outputs": [],
   "source": [
    "x_over=df_over.drop(['Label','Year'],axis=1)\n",
    "y_over=df_over['Label']"
   ]
  },
  {
   "cell_type": "code",
   "execution_count": 21,
   "metadata": {},
   "outputs": [
    {
     "data": {
      "text/html": [
       "<div>\n",
       "<style scoped>\n",
       "    .dataframe tbody tr th:only-of-type {\n",
       "        vertical-align: middle;\n",
       "    }\n",
       "\n",
       "    .dataframe tbody tr th {\n",
       "        vertical-align: top;\n",
       "    }\n",
       "\n",
       "    .dataframe thead th {\n",
       "        text-align: right;\n",
       "    }\n",
       "</style>\n",
       "<table border=\"1\" class=\"dataframe\">\n",
       "  <thead>\n",
       "    <tr style=\"text-align: right;\">\n",
       "      <th></th>\n",
       "      <th>GDP growth</th>\n",
       "      <th>GDP per capita</th>\n",
       "      <th>Population</th>\n",
       "      <th>School enrolment</th>\n",
       "      <th>Control of corruption</th>\n",
       "      <th>Regime types</th>\n",
       "    </tr>\n",
       "  </thead>\n",
       "  <tbody>\n",
       "    <tr>\n",
       "      <th>0</th>\n",
       "      <td>0.502648</td>\n",
       "      <td>-0.831979</td>\n",
       "      <td>-0.114458</td>\n",
       "      <td>-1.711142</td>\n",
       "      <td>-1.349938</td>\n",
       "      <td>-0.877769</td>\n",
       "    </tr>\n",
       "    <tr>\n",
       "      <th>1</th>\n",
       "      <td>-0.416823</td>\n",
       "      <td>-0.673195</td>\n",
       "      <td>-0.055199</td>\n",
       "      <td>-0.096527</td>\n",
       "      <td>-0.574987</td>\n",
       "      <td>-0.877769</td>\n",
       "    </tr>\n",
       "    <tr>\n",
       "      <th>2</th>\n",
       "      <td>2.059466</td>\n",
       "      <td>-0.716615</td>\n",
       "      <td>-0.166115</td>\n",
       "      <td>-2.126326</td>\n",
       "      <td>-1.169458</td>\n",
       "      <td>-1.905966</td>\n",
       "    </tr>\n",
       "    <tr>\n",
       "      <th>3</th>\n",
       "      <td>1.178850</td>\n",
       "      <td>-0.552671</td>\n",
       "      <td>-0.008757</td>\n",
       "      <td>0.276536</td>\n",
       "      <td>-0.369474</td>\n",
       "      <td>0.150427</td>\n",
       "    </tr>\n",
       "    <tr>\n",
       "      <th>4</th>\n",
       "      <td>2.474276</td>\n",
       "      <td>-0.738416</td>\n",
       "      <td>-0.307454</td>\n",
       "      <td>0.374353</td>\n",
       "      <td>-0.666671</td>\n",
       "      <td>-0.877769</td>\n",
       "    </tr>\n",
       "  </tbody>\n",
       "</table>\n",
       "</div>"
      ],
      "text/plain": [
       "   GDP growth  GDP per capita  Population  School enrolment   \\\n",
       "0    0.502648       -0.831979   -0.114458          -1.711142   \n",
       "1   -0.416823       -0.673195   -0.055199          -0.096527   \n",
       "2    2.059466       -0.716615   -0.166115          -2.126326   \n",
       "3    1.178850       -0.552671   -0.008757           0.276536   \n",
       "4    2.474276       -0.738416   -0.307454           0.374353   \n",
       "\n",
       "   Control of corruption  Regime types  \n",
       "0              -1.349938     -0.877769  \n",
       "1              -0.574987     -0.877769  \n",
       "2              -1.169458     -1.905966  \n",
       "3              -0.369474      0.150427  \n",
       "4              -0.666671     -0.877769  "
      ]
     },
     "execution_count": 21,
     "metadata": {},
     "output_type": "execute_result"
    }
   ],
   "source": [
    "scaler = StandardScaler()\n",
    "x_over = pd.DataFrame(scaler.fit_transform(x_over), columns = x_over.columns)\n",
    "x_over.head()"
   ]
  },
  {
   "cell_type": "code",
   "execution_count": 22,
   "metadata": {},
   "outputs": [],
   "source": [
    "oversample = SMOTE()\n",
    "x_over, y_over = oversample.fit_resample(x_over, y_over)"
   ]
  },
  {
   "cell_type": "code",
   "execution_count": 23,
   "metadata": {},
   "outputs": [],
   "source": [
    "X_over_train, X_over_test, y_over_train, y_over_test = train_test_split(x_over,y_over,test_size=0.2, random_state = 1)"
   ]
  },
  {
   "cell_type": "code",
   "execution_count": 24,
   "metadata": {},
   "outputs": [],
   "source": [
    "le_over = LabelEncoder()\n",
    "y_over_train = le_over.fit_transform(y_over_train)"
   ]
  },
  {
   "cell_type": "code",
   "execution_count": 25,
   "metadata": {},
   "outputs": [],
   "source": [
    "lee_over= LabelEncoder()\n",
    "y_over_test=lee_over.fit_transform(y_over_test)"
   ]
  },
  {
   "cell_type": "code",
   "execution_count": 38,
   "metadata": {},
   "outputs": [],
   "source": [
    "xgb_model_over = xgb.XGBClassifier(eta=0.1,gamma=.02,max_depth= 8,min_child_weight=1,subsample=0.5,objective='multi:softmax',n_estimators=150)"
   ]
  },
  {
   "cell_type": "code",
   "execution_count": 39,
   "metadata": {},
   "outputs": [],
   "source": [
    "model_over =xgb_model_over.fit(X_over_train, y_over_train)"
   ]
  },
  {
   "cell_type": "code",
   "execution_count": 40,
   "metadata": {},
   "outputs": [],
   "source": [
    "y_pred_over = model_over.predict(X_over_test)"
   ]
  },
  {
   "cell_type": "code",
   "execution_count": 41,
   "metadata": {},
   "outputs": [
    {
     "name": "stdout",
     "output_type": "stream",
     "text": [
      "Confusion Matrix:\n",
      "[[192  10   2   0]\n",
      " [ 13 180   0   0]\n",
      " [  3   0 170   2]\n",
      " [  0   0   2 173]]\n",
      "Classification Report:\n",
      "              precision    recall  f1-score   support\n",
      "\n",
      "           0       0.92      0.94      0.93       204\n",
      "           1       0.95      0.93      0.94       193\n",
      "           2       0.98      0.97      0.97       175\n",
      "           3       0.99      0.99      0.99       175\n",
      "\n",
      "    accuracy                           0.96       747\n",
      "   macro avg       0.96      0.96      0.96       747\n",
      "weighted avg       0.96      0.96      0.96       747\n",
      "\n",
      "Accuracy: 0.9571619812583668\n"
     ]
    }
   ],
   "source": [
    "result_over = confusion_matrix(y_over_test,y_pred_over)\n",
    "print('Confusion Matrix:')\n",
    "print(result_over)\n",
    "result1_over = classification_report(y_over_test,y_pred_over)\n",
    "print('Classification Report:',)\n",
    "print (result1_over)\n",
    "result2_over = accuracy_score(y_over_test,y_pred_over)\n",
    "print('Accuracy:',result2_over)"
   ]
  },
  {
   "cell_type": "markdown",
   "metadata": {},
   "source": [
    "# Under sampling Random forest"
   ]
  },
  {
   "cell_type": "code",
   "execution_count": 42,
   "metadata": {},
   "outputs": [],
   "source": [
    "df_under=df.copy()"
   ]
  },
  {
   "cell_type": "code",
   "execution_count": 43,
   "metadata": {},
   "outputs": [],
   "source": [
    "x_under=df_under.drop(['Label','Year'],axis=1)\n",
    "y_under=df_under['Label']"
   ]
  },
  {
   "cell_type": "code",
   "execution_count": 45,
   "metadata": {},
   "outputs": [
    {
     "data": {
      "text/html": [
       "<div>\n",
       "<style scoped>\n",
       "    .dataframe tbody tr th:only-of-type {\n",
       "        vertical-align: middle;\n",
       "    }\n",
       "\n",
       "    .dataframe tbody tr th {\n",
       "        vertical-align: top;\n",
       "    }\n",
       "\n",
       "    .dataframe thead th {\n",
       "        text-align: right;\n",
       "    }\n",
       "</style>\n",
       "<table border=\"1\" class=\"dataframe\">\n",
       "  <thead>\n",
       "    <tr style=\"text-align: right;\">\n",
       "      <th></th>\n",
       "      <th>GDP growth</th>\n",
       "      <th>GDP per capita</th>\n",
       "      <th>Population</th>\n",
       "      <th>School enrolment</th>\n",
       "      <th>Control of corruption</th>\n",
       "      <th>Regime types</th>\n",
       "    </tr>\n",
       "  </thead>\n",
       "  <tbody>\n",
       "    <tr>\n",
       "      <th>0</th>\n",
       "      <td>0.390021</td>\n",
       "      <td>-0.700372</td>\n",
       "      <td>-0.145309</td>\n",
       "      <td>-1.626815</td>\n",
       "      <td>-1.263694</td>\n",
       "      <td>-0.750929</td>\n",
       "    </tr>\n",
       "    <tr>\n",
       "      <th>1</th>\n",
       "      <td>-0.471464</td>\n",
       "      <td>-0.520049</td>\n",
       "      <td>-0.100416</td>\n",
       "      <td>0.039238</td>\n",
       "      <td>-0.403364</td>\n",
       "      <td>-0.750929</td>\n",
       "    </tr>\n",
       "    <tr>\n",
       "      <th>2</th>\n",
       "      <td>1.848659</td>\n",
       "      <td>-0.569359</td>\n",
       "      <td>-0.184441</td>\n",
       "      <td>-2.055227</td>\n",
       "      <td>-1.063330</td>\n",
       "      <td>-1.818356</td>\n",
       "    </tr>\n",
       "    <tr>\n",
       "      <th>3</th>\n",
       "      <td>1.023579</td>\n",
       "      <td>-0.383175</td>\n",
       "      <td>-0.065234</td>\n",
       "      <td>0.424186</td>\n",
       "      <td>-0.175210</td>\n",
       "      <td>0.316498</td>\n",
       "    </tr>\n",
       "    <tr>\n",
       "      <th>4</th>\n",
       "      <td>2.237309</td>\n",
       "      <td>-0.594117</td>\n",
       "      <td>-0.291514</td>\n",
       "      <td>0.525120</td>\n",
       "      <td>-0.505150</td>\n",
       "      <td>-0.750929</td>\n",
       "    </tr>\n",
       "  </tbody>\n",
       "</table>\n",
       "</div>"
      ],
      "text/plain": [
       "   GDP growth  GDP per capita  Population  School enrolment   \\\n",
       "0    0.390021       -0.700372   -0.145309          -1.626815   \n",
       "1   -0.471464       -0.520049   -0.100416           0.039238   \n",
       "2    1.848659       -0.569359   -0.184441          -2.055227   \n",
       "3    1.023579       -0.383175   -0.065234           0.424186   \n",
       "4    2.237309       -0.594117   -0.291514           0.525120   \n",
       "\n",
       "   Control of corruption  Regime types  \n",
       "0              -1.263694     -0.750929  \n",
       "1              -0.403364     -0.750929  \n",
       "2              -1.063330     -1.818356  \n",
       "3              -0.175210      0.316498  \n",
       "4              -0.505150     -0.750929  "
      ]
     },
     "execution_count": 45,
     "metadata": {},
     "output_type": "execute_result"
    }
   ],
   "source": [
    "scaler = StandardScaler()\n",
    "x_under = pd.DataFrame(scaler.fit_transform(x_under), columns = x_under.columns)\n",
    "x_under.head()"
   ]
  },
  {
   "cell_type": "code",
   "execution_count": 46,
   "metadata": {},
   "outputs": [],
   "source": [
    "undersample = NearMiss(version=1, n_neighbors=3)"
   ]
  },
  {
   "cell_type": "code",
   "execution_count": 47,
   "metadata": {},
   "outputs": [],
   "source": [
    "x_under, y_under= undersample.fit_resample(x_under,y_under)"
   ]
  },
  {
   "cell_type": "code",
   "execution_count": 48,
   "metadata": {},
   "outputs": [
    {
     "data": {
      "text/plain": [
       " Warning       309\n",
       "Alert          309\n",
       "Stable         309\n",
       "Sustainable    309\n",
       "Name: Label, dtype: int64"
      ]
     },
     "execution_count": 48,
     "metadata": {},
     "output_type": "execute_result"
    }
   ],
   "source": [
    "y_under.value_counts()"
   ]
  },
  {
   "cell_type": "code",
   "execution_count": 49,
   "metadata": {},
   "outputs": [],
   "source": [
    "X_under_train, X_under_test, y_under_train, y_under_test = train_test_split(x_under,y_under,test_size=0.2, random_state = 1)"
   ]
  },
  {
   "cell_type": "code",
   "execution_count": 50,
   "metadata": {},
   "outputs": [],
   "source": [
    "le_under = LabelEncoder()\n",
    "y_under_train = le_over.fit_transform(y_under_train)"
   ]
  },
  {
   "cell_type": "code",
   "execution_count": 51,
   "metadata": {},
   "outputs": [],
   "source": [
    "lee_under= LabelEncoder()\n",
    "y_under_test=lee_under.fit_transform(y_under_test)"
   ]
  },
  {
   "cell_type": "code",
   "execution_count": 52,
   "metadata": {},
   "outputs": [],
   "source": [
    "xgb_model_under = xgb.XGBClassifier(eta=0.1,gamma=.03,max_depth= 10,min_child_weight=1,subsample=0.5,objective='multi:softmax',n_estimators=150)"
   ]
  },
  {
   "cell_type": "code",
   "execution_count": 53,
   "metadata": {},
   "outputs": [],
   "source": [
    "model_under =xgb_model_under.fit(X_under_train, y_under_train)"
   ]
  },
  {
   "cell_type": "code",
   "execution_count": 54,
   "metadata": {},
   "outputs": [],
   "source": [
    "y_pred_under = model_under.predict(X_under_test)"
   ]
  },
  {
   "cell_type": "code",
   "execution_count": 55,
   "metadata": {},
   "outputs": [
    {
     "name": "stdout",
     "output_type": "stream",
     "text": [
      "Confusion Matrix:\n",
      "[[73  1  0  0]\n",
      " [ 2 51  0  0]\n",
      " [ 5  0 50  0]\n",
      " [ 0  0  6 60]]\n",
      "Classification Report:\n",
      "              precision    recall  f1-score   support\n",
      "\n",
      "           0       0.91      0.99      0.95        74\n",
      "           1       0.98      0.96      0.97        53\n",
      "           2       0.89      0.91      0.90        55\n",
      "           3       1.00      0.91      0.95        66\n",
      "\n",
      "    accuracy                           0.94       248\n",
      "   macro avg       0.95      0.94      0.94       248\n",
      "weighted avg       0.95      0.94      0.94       248\n",
      "\n",
      "Accuracy: 0.9435483870967742\n"
     ]
    }
   ],
   "source": [
    "result_under = confusion_matrix(y_under_test,y_pred_under)\n",
    "print('Confusion Matrix:')\n",
    "print(result_under)\n",
    "result1_under = classification_report(y_under_test,y_pred_under)\n",
    "print('Classification Report:',)\n",
    "print (result1_under)\n",
    "result2_under = accuracy_score(y_under_test,y_pred_under)\n",
    "print('Accuracy:',result2_under)"
   ]
  },
  {
   "cell_type": "markdown",
   "metadata": {},
   "source": [
    "# Result"
   ]
  },
  {
   "cell_type": "code",
   "execution_count": 56,
   "metadata": {},
   "outputs": [
    {
     "data": {
      "text/plain": [
       "array([0.05130431, 0.29188624, 0.10478258, 0.10129163, 0.33255136,\n",
       "       0.11818385], dtype=float32)"
      ]
     },
     "execution_count": 56,
     "metadata": {},
     "output_type": "execute_result"
    }
   ],
   "source": [
    "model_over.feature_importances_\n"
   ]
  },
  {
   "cell_type": "code",
   "execution_count": null,
   "metadata": {},
   "outputs": [],
   "source": []
  }
 ],
 "metadata": {
  "kernelspec": {
   "display_name": "Python 3",
   "language": "python",
   "name": "python3"
  },
  "language_info": {
   "codemirror_mode": {
    "name": "ipython",
    "version": 3
   },
   "file_extension": ".py",
   "mimetype": "text/x-python",
   "name": "python",
   "nbconvert_exporter": "python",
   "pygments_lexer": "ipython3",
   "version": "3.7.1"
  }
 },
 "nbformat": 4,
 "nbformat_minor": 2
}
